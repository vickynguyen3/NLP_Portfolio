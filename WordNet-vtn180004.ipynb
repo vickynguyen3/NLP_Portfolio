{
 "cells": [
  {
   "attachments": {},
   "cell_type": "markdown",
   "metadata": {},
   "source": [
    "# Summary of WordNet\n"
   ]
  },
  {
   "cell_type": "code",
   "execution_count": 2,
   "metadata": {},
   "outputs": [],
   "source": [
    "from nltk.corpus import wordnet as wn"
   ]
  },
  {
   "cell_type": "code",
   "execution_count": 13,
   "metadata": {},
   "outputs": [
    {
     "data": {
      "text/plain": [
       "[Synset('dress.n.01'),\n",
       " Synset('attire.n.01'),\n",
       " Synset('apparel.n.01'),\n",
       " Synset('dress.v.01'),\n",
       " Synset('dress.v.02'),\n",
       " Synset('dress.v.03'),\n",
       " Synset('dress.v.04'),\n",
       " Synset('preen.v.03'),\n",
       " Synset('dress.v.06'),\n",
       " Synset('dress.v.07'),\n",
       " Synset('trim.v.06'),\n",
       " Synset('dress.v.09'),\n",
       " Synset('dress.v.10'),\n",
       " Synset('snip.v.02'),\n",
       " Synset('dress.v.12'),\n",
       " Synset('dress.v.13'),\n",
       " Synset('dress.v.14'),\n",
       " Synset('dress.v.15'),\n",
       " Synset('dress.v.16'),\n",
       " Synset('full-dress.s.01'),\n",
       " Synset('dress.s.02')]"
      ]
     },
     "execution_count": 13,
     "metadata": {},
     "output_type": "execute_result"
    }
   ],
   "source": [
    "# output all synsets (synonym sets) from noun\n",
    "wn.synsets('dress')"
   ]
  },
  {
   "cell_type": "code",
   "execution_count": 22,
   "metadata": {},
   "outputs": [
    {
     "name": "stdout",
     "output_type": "stream",
     "text": [
      "---- Definitions ----\n",
      "\n",
      "---- Examples ----\n",
      "\n",
      "---- Lemmas ----\n",
      "\n",
      "Synset('clothing.n.01')\n",
      "Synset('consumer_goods.n.01')\n",
      "Synset('commodity.n.01')\n",
      "Synset('artifact.n.01')\n",
      "Synset('whole.n.02')\n",
      "Synset('object.n.01')\n",
      "Synset('physical_entity.n.01')\n",
      "Synset('entity.n.01')\n"
     ]
    }
   ],
   "source": [
    "# select one synset from list of synsets\n",
    "apparel = wn.synset('apparel.n.01')\n",
    "# extract definition \n",
    "print('---- Definitions ----\\n')\n",
    "apparel.definition()\n",
    "\n",
    "# extract usage examples\n",
    "print('---- Examples ----\\n')\n",
    "apparel.examples()\n",
    "\n",
    "# extract lemmas\n",
    "print('---- Lemmas ----\\n')\n",
    "apparel.lemmas()\n",
    "\n",
    "# hypernym of apparel\n",
    "hy = apparel.hypernyms()[0]\n",
    "# hierarchy for nouns has 'entity' at the top\n",
    "top = wn.synset('entity.n.01')\n",
    "\n",
    "# from selected synset, traverse up the WordNet hierarchy\n",
    "# as far as you can, output synsets as you go\n",
    "while hy:\n",
    "    print(hy)\n",
    "    if hy == top:\n",
    "        break\n",
    "    if hy.hypernyms():\n",
    "        hy = hy.hypernyms()[0]\n"
   ]
  },
  {
   "attachments": {},
   "cell_type": "markdown",
   "metadata": {},
   "source": [
    "# Observation of the Way WordNet is Organized for Nouns"
   ]
  },
  {
   "cell_type": "code",
   "execution_count": null,
   "metadata": {},
   "outputs": [],
   "source": [
    "# output the following (or an empty lsit if none exist)\n",
    "# hypernyms, hyponyms, meronyms, holonyms, antonym\n",
    "dog = wn.synset('dog.n.01')\n",
    "print('Hypernyms: ', dog.hypernyms())\n",
    "print('Hyponym: ')\n",
    "print('Meronyms: ')\n",
    "print('Holoynyms: ')\n",
    "print('Antonyms: ')"
   ]
  },
  {
   "cell_type": "code",
   "execution_count": null,
   "metadata": {},
   "outputs": [],
   "source": [
    "# output all synsets from verb\n",
    "wn.synset('')"
   ]
  },
  {
   "cell_type": "code",
   "execution_count": null,
   "metadata": {},
   "outputs": [],
   "source": [
    "# select one synset from the list of synsets\n",
    "# extract definition \n",
    "wn.synset().definition()\n",
    "\n",
    "# extract usage examples\n",
    "wn.synset().examples()\n",
    "\n",
    "# extract lemmas\n",
    "wn.synset().lemmas()\n",
    "\n",
    "# from selected synset, traverse up the WordNet hierarchy\n",
    "# as far as you can, output synsets as you go\n"
   ]
  },
  {
   "attachments": {},
   "cell_type": "markdown",
   "metadata": {},
   "source": [
    "# Observation of the Way WordNet is Organized for Verbs"
   ]
  },
  {
   "cell_type": "code",
   "execution_count": null,
   "metadata": {},
   "outputs": [],
   "source": [
    "# use morphy to find many different forms of the word\n",
    "wn.morphy()"
   ]
  },
  {
   "cell_type": "code",
   "execution_count": null,
   "metadata": {},
   "outputs": [],
   "source": [
    "# select two words that you think might be similar\n",
    "\n",
    "# find specific synsets you are interested in\n",
    "\n",
    "# run Wu-Palmer similarity metric and Lesk algorithm"
   ]
  },
  {
   "attachments": {},
   "cell_type": "markdown",
   "metadata": {},
   "source": [
    "# Observation of Wu-Palmer and Lesk Algorithm"
   ]
  },
  {
   "attachments": {},
   "cell_type": "markdown",
   "metadata": {},
   "source": [
    "# SentiWordNet\n",
    "functionality\n",
    "possible use cases"
   ]
  },
  {
   "cell_type": "code",
   "execution_count": null,
   "metadata": {},
   "outputs": [],
   "source": [
    "# select an emotionally charged word\n",
    "\n",
    "# find its senti-synsets and output the polarity scores for each word\n",
    "\n",
    "# make up a sentence\n",
    "\n",
    "# output polarity for each word in the sentence"
   ]
  },
  {
   "attachments": {},
   "cell_type": "markdown",
   "metadata": {},
   "source": [
    "# Observation of the Scores and Utility of Knowing these Scores in an NLP application"
   ]
  },
  {
   "attachments": {},
   "cell_type": "markdown",
   "metadata": {},
   "source": [
    "# Collocation\n",
    "Collocation is "
   ]
  },
  {
   "cell_type": "code",
   "execution_count": null,
   "metadata": {},
   "outputs": [],
   "source": [
    "# output collocations for text4, Inaugural Corpus\n",
    "\n",
    "# select one of the collocations identified by NLTK\n",
    "\n",
    "# calculate mutual information"
   ]
  },
  {
   "attachments": {},
   "cell_type": "markdown",
   "metadata": {},
   "source": [
    "# Commentary on the Results of the Mutual Information Formula and my Interpretation"
   ]
  }
 ],
 "metadata": {
  "kernelspec": {
   "display_name": "Python 3",
   "language": "python",
   "name": "python3"
  },
  "language_info": {
   "codemirror_mode": {
    "name": "ipython",
    "version": 3
   },
   "file_extension": ".py",
   "mimetype": "text/x-python",
   "name": "python",
   "nbconvert_exporter": "python",
   "pygments_lexer": "ipython3",
   "version": "3.10.10"
  },
  "orig_nbformat": 4,
  "vscode": {
   "interpreter": {
    "hash": "e8c3ccee6358082b56d4bf6497bbfb0bbb5ad3534c94c8a9fbdfa83e71dff5fd"
   }
  }
 },
 "nbformat": 4,
 "nbformat_minor": 2
}
